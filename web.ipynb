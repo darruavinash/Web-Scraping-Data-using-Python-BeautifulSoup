{
 "cells": [
  {
   "metadata": {},
   "cell_type": "markdown",
   "source": "",
   "id": "9a91a36d5e64fed"
  },
  {
   "metadata": {},
   "cell_type": "code",
   "outputs": [],
   "execution_count": null,
   "source": "",
   "id": "58903c88c950e1e0"
  },
  {
   "metadata": {
    "ExecuteTime": {
     "end_time": "2025-04-16T04:49:29.763804Z",
     "start_time": "2025-04-16T04:48:34.345667Z"
    }
   },
   "cell_type": "code",
   "source": [
    "import time\n",
    "import os\n",
    "\n",
    "from bs4 import BeautifulSoup\n",
    "import requests\n",
    "print('Put some skill that you are not familiar with')\n",
    "unfamiliar_skill = input('>')\n",
    "print(f'filtering out {unfamiliar_skill}')\n",
    "\n",
    "def find_jobs():\n",
    "    html_text = requests.get('https://m.timesjobs.com/mobile/jobs-search-result.html?txtKeywords=java&cboWorkExp1=-1&txtLocation=').text\n",
    "    soup = BeautifulSoup(html_text, 'html.parser')\n",
    "    jobs = soup.find_all('div', class_ = 'srp-job-bx')\n",
    "\n",
    "    for index, job in enumerate(jobs):\n",
    "         published_date = job.find('span', class_ = 'posting-time').text\n",
    "         if 'day' in published_date.lower():\n",
    "             Company_name = job.find('span', class_ = 'srp-comp-name').text.replace('  ','')\n",
    "             Skills = job.find('div', class_ = 'srp-keyskills').text.replace('  ','')\n",
    "             more_info = job.div.h3.a['href']\n",
    "             if unfamiliar_skill not in skills:\n",
    "                 os.makedirs('posts', exist_ok=True)\n",
    "\n",
    "                 with open(f'posts/{index}.txt', 'w') as f:\n",
    "                     f.write(f\"company name: {Company_name.strip()} \\n\")\n",
    "                     f.write(f\"Required skills: {Skills.strip()} \\n\")\n",
    "                     f.write(f'more info: {more_info}')\n",
    "                 print(f'File saved: {index}')\n",
    "\n",
    "\n",
    "if __name__ == '__main__':\n",
    "    while True:\n",
    "        find_jobs()\n",
    "        time_wait = 10\n",
    "        print(f'Waiting {time_wait} minutes...')\n",
    "        time.sleep(time_wait * 60)\n"
   ],
   "id": "464e24a525e09b28",
   "outputs": [
    {
     "name": "stdout",
     "output_type": "stream",
     "text": [
      "Put some skill that you are not familiar with\n",
      "filtering out python\n",
      "File saved: 0\n",
      "File saved: 1\n",
      "File saved: 2\n",
      "File saved: 3\n",
      "File saved: 4\n",
      "File saved: 5\n",
      "File saved: 6\n",
      "File saved: 7\n",
      "File saved: 8\n",
      "File saved: 9\n",
      "File saved: 10\n",
      "File saved: 11\n",
      "File saved: 12\n",
      "File saved: 13\n",
      "File saved: 14\n",
      "File saved: 15\n",
      "File saved: 16\n",
      "File saved: 17\n",
      "File saved: 18\n",
      "File saved: 19\n",
      "File saved: 20\n",
      "File saved: 21\n",
      "File saved: 22\n",
      "File saved: 23\n",
      "File saved: 24\n",
      "Waiting 10 minutes...\n"
     ]
    },
    {
     "ename": "KeyboardInterrupt",
     "evalue": "",
     "output_type": "error",
     "traceback": [
      "\u001B[0;31m---------------------------------------------------------------------------\u001B[0m",
      "\u001B[0;31mKeyboardInterrupt\u001B[0m                         Traceback (most recent call last)",
      "Cell \u001B[0;32mIn[178], line 36\u001B[0m\n\u001B[1;32m     34\u001B[0m time_wait \u001B[38;5;241m=\u001B[39m \u001B[38;5;241m10\u001B[39m\n\u001B[1;32m     35\u001B[0m \u001B[38;5;28mprint\u001B[39m(\u001B[38;5;124mf\u001B[39m\u001B[38;5;124m'\u001B[39m\u001B[38;5;124mWaiting \u001B[39m\u001B[38;5;132;01m{\u001B[39;00mtime_wait\u001B[38;5;132;01m}\u001B[39;00m\u001B[38;5;124m minutes...\u001B[39m\u001B[38;5;124m'\u001B[39m)\n\u001B[0;32m---> 36\u001B[0m time\u001B[38;5;241m.\u001B[39msleep(time_wait \u001B[38;5;241m*\u001B[39m \u001B[38;5;241m60\u001B[39m)\n",
      "\u001B[0;31mKeyboardInterrupt\u001B[0m: "
     ]
    }
   ],
   "execution_count": 178
  },
  {
   "metadata": {},
   "cell_type": "code",
   "outputs": [],
   "execution_count": null,
   "source": "",
   "id": "6a6d7092798f5cd1"
  }
 ],
 "metadata": {
  "kernelspec": {
   "display_name": "Python 3",
   "language": "python",
   "name": "python3"
  },
  "language_info": {
   "codemirror_mode": {
    "name": "ipython",
    "version": 2
   },
   "file_extension": ".py",
   "mimetype": "text/x-python",
   "name": "python",
   "nbconvert_exporter": "python",
   "pygments_lexer": "ipython2",
   "version": "2.7.6"
  }
 },
 "nbformat": 4,
 "nbformat_minor": 5
}
